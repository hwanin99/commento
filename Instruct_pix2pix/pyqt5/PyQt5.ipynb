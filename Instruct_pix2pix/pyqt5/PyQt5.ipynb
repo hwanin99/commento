{
 "cells": [
  {
   "cell_type": "markdown",
   "id": "791fff45",
   "metadata": {},
   "source": [
    "# SetUp"
   ]
  },
  {
   "cell_type": "code",
   "execution_count": null,
   "id": "9316e0e0",
   "metadata": {},
   "outputs": [],
   "source": [
    "from generate_pokemon import run_app"
   ]
  },
  {
   "cell_type": "code",
   "execution_count": null,
   "id": "842a6121",
   "metadata": {},
   "outputs": [],
   "source": []
  },
  {
   "cell_type": "markdown",
   "id": "d39231e2",
   "metadata": {},
   "source": [
    "# PyQt5"
   ]
  },
  {
   "cell_type": "code",
   "execution_count": null,
   "id": "4ad89d2c",
   "metadata": {},
   "outputs": [],
   "source": [
    "run_app()"
   ]
  }
 ],
 "metadata": {
  "kernelspec": {
   "display_name": "Python 3 (ipykernel)",
   "language": "python",
   "name": "python3"
  },
  "language_info": {
   "codemirror_mode": {
    "name": "ipython",
    "version": 3
   },
   "file_extension": ".py",
   "mimetype": "text/x-python",
   "name": "python",
   "nbconvert_exporter": "python",
   "pygments_lexer": "ipython3",
   "version": "3.10.9"
  }
 },
 "nbformat": 4,
 "nbformat_minor": 5
}
